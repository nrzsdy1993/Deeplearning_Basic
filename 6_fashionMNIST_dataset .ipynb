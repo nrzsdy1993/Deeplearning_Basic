{
  "nbformat": 4,
  "nbformat_minor": 0,
  "metadata": {
    "colab": {
      "name": "5_MNIST_dataset.ipynb",
      "provenance": [],
      "collapsed_sections": [],
      "toc_visible": true,
      "authorship_tag": "ABX9TyMjJgZ86V8QmfqDg1zx6AfB",
      "include_colab_link": true
    },
    "kernelspec": {
      "name": "python3",
      "display_name": "Python 3"
    },
    "language_info": {
      "name": "python"
    },
    "accelerator": "GPU"
  },
  "cells": [
    {
      "cell_type": "markdown",
      "metadata": {
        "id": "view-in-github",
        "colab_type": "text"
      },
      "source": [
        "<a href=\"https://colab.research.google.com/github/yebiny/Lecture_deeplearning_basic/blob/main/5_MNIST_dataset.ipynb\" target=\"_parent\"><img src=\"https://colab.research.google.com/assets/colab-badge.svg\" alt=\"Open In Colab\"/></a>"
      ]
    },
    {
      "cell_type": "markdown",
      "metadata": {
        "id": "nEGOy_62Hi6o"
      },
      "source": [
        "# 데이터\n",
        "---"
      ]
    },
    {
      "cell_type": "markdown",
      "metadata": {
        "id": "W1QP0SooHp61"
      },
      "source": [
        "## 1. 데이터 불러오기"
      ]
    },
    {
      "cell_type": "code",
      "metadata": {
        "id": "-wP1_iC5Z49m"
      },
      "source": [
        ""
      ],
      "execution_count": null,
      "outputs": []
    },
    {
      "cell_type": "code",
      "metadata": {
        "id": "srcKvLLDFBK0"
      },
      "source": [
        ""
      ],
      "execution_count": null,
      "outputs": []
    },
    {
      "cell_type": "markdown",
      "metadata": {
        "id": "KSVLAchfHsql"
      },
      "source": [
        "## 2. 데이터 시각화 (EDA)"
      ]
    },
    {
      "cell_type": "code",
      "metadata": {
        "id": "4MXH4mFcIPer"
      },
      "source": [
        ""
      ],
      "execution_count": null,
      "outputs": []
    },
    {
      "cell_type": "markdown",
      "metadata": {
        "id": "Ix4gK3PjX95W"
      },
      "source": [
        "* 이미지 확인"
      ]
    },
    {
      "cell_type": "code",
      "metadata": {
        "id": "geDjOUfYHv3q"
      },
      "source": [
        ""
      ],
      "execution_count": null,
      "outputs": []
    },
    {
      "cell_type": "markdown",
      "metadata": {
        "id": "Kschquy9YCyN"
      },
      "source": [
        "* 실제 데이터 확인"
      ]
    },
    {
      "cell_type": "code",
      "metadata": {
        "id": "KUjjsvpjITjj"
      },
      "source": [
        ""
      ],
      "execution_count": null,
      "outputs": []
    },
    {
      "cell_type": "markdown",
      "metadata": {
        "id": "mBhr5QHIZMwl"
      },
      "source": [
        "* 데이터 시각화"
      ]
    },
    {
      "cell_type": "code",
      "metadata": {
        "id": "hKzoQPmaIwni"
      },
      "source": [
        ""
      ],
      "execution_count": null,
      "outputs": []
    },
    {
      "cell_type": "markdown",
      "metadata": {
        "id": "2ju6uXb1HwGG"
      },
      "source": [
        "## 3. 데이터 전처리\n",
        "  * 정규화\n",
        "  * 원핫벡터\n"
      ]
    },
    {
      "cell_type": "markdown",
      "metadata": {
        "id": "hbRPqC9fMPXR"
      },
      "source": [
        "### **min max normalization**\n",
        "\n",
        "# <center>$\\frac{x-x_{min}}{x_{max}-x_{min}}$</center>"
      ]
    },
    {
      "cell_type": "code",
      "metadata": {
        "id": "jkpW0l32MOID"
      },
      "source": [
        ""
      ],
      "execution_count": null,
      "outputs": []
    },
    {
      "cell_type": "code",
      "metadata": {
        "id": "wRBbAD5BL0sC"
      },
      "source": [
        ""
      ],
      "execution_count": null,
      "outputs": []
    },
    {
      "cell_type": "code",
      "metadata": {
        "id": "5UIP4XWLNWAb"
      },
      "source": [
        ""
      ],
      "execution_count": null,
      "outputs": []
    },
    {
      "cell_type": "markdown",
      "metadata": {
        "id": "lBtlm3iUNkO8"
      },
      "source": [
        "### **Z-Score Normalization**\n",
        "\n",
        "\n",
        "# <center>$\\frac{x-\\bar{x}}{\\sigma}$</center>"
      ]
    },
    {
      "cell_type": "code",
      "metadata": {
        "id": "E64hnxUwN0yQ"
      },
      "source": [
        ""
      ],
      "execution_count": null,
      "outputs": []
    },
    {
      "cell_type": "code",
      "metadata": {
        "id": "Kgpn-RaNOMEr"
      },
      "source": [
        ""
      ],
      "execution_count": null,
      "outputs": []
    },
    {
      "cell_type": "code",
      "metadata": {
        "id": "5Pk22PFAOMHT"
      },
      "source": [
        ""
      ],
      "execution_count": null,
      "outputs": []
    },
    {
      "cell_type": "markdown",
      "metadata": {
        "id": "NDRToZW5PP1Q"
      },
      "source": [
        "### **one-hot coding**"
      ]
    },
    {
      "cell_type": "code",
      "metadata": {
        "id": "Qe1tP_GePPP1"
      },
      "source": [
        ""
      ],
      "execution_count": null,
      "outputs": []
    },
    {
      "cell_type": "markdown",
      "metadata": {
        "id": "OV1cR283HndF"
      },
      "source": [
        "# 모델\n",
        "---"
      ]
    },
    {
      "cell_type": "markdown",
      "metadata": {
        "id": "fEGwqGpUQyc9"
      },
      "source": [
        "## 1. 모델구현\n",
        "---"
      ]
    },
    {
      "cell_type": "code",
      "metadata": {
        "id": "tuHf-HiKQn-J"
      },
      "source": [
        ""
      ],
      "execution_count": null,
      "outputs": []
    },
    {
      "cell_type": "markdown",
      "metadata": {
        "id": "wog_BqgEQpMc"
      },
      "source": [
        "### **Softmax regression**"
      ]
    },
    {
      "cell_type": "code",
      "metadata": {
        "id": "sqKIxPYMHLXG"
      },
      "source": [
        ""
      ],
      "execution_count": null,
      "outputs": []
    },
    {
      "cell_type": "markdown",
      "metadata": {
        "id": "G_k15khpQ4uE"
      },
      "source": [
        "### **DNN**"
      ]
    },
    {
      "cell_type": "code",
      "metadata": {
        "id": "YXH3caN_Q4uE"
      },
      "source": [
        ""
      ],
      "execution_count": null,
      "outputs": []
    },
    {
      "cell_type": "markdown",
      "metadata": {
        "id": "lQWijmtAQ49N"
      },
      "source": [
        "### **CNN**"
      ]
    },
    {
      "cell_type": "code",
      "metadata": {
        "id": "Ce2_bB_JQ49N"
      },
      "source": [
        ""
      ],
      "execution_count": null,
      "outputs": []
    },
    {
      "cell_type": "markdown",
      "metadata": {
        "id": "5d_Mv1TfQ3iS"
      },
      "source": [
        "## 2. 학습\n",
        "---"
      ]
    },
    {
      "cell_type": "markdown",
      "metadata": {
        "id": "dTPzoRvZSpiK"
      },
      "source": [
        "### **Softmax Regression**"
      ]
    },
    {
      "cell_type": "code",
      "metadata": {
        "id": "57qpzvVcSxAp"
      },
      "source": [
        ""
      ],
      "execution_count": null,
      "outputs": []
    },
    {
      "cell_type": "markdown",
      "metadata": {
        "id": "bzmcbas7Spkd"
      },
      "source": [
        "### **DNN**"
      ]
    },
    {
      "cell_type": "code",
      "metadata": {
        "id": "2DEVG7txSxf6"
      },
      "source": [
        ""
      ],
      "execution_count": null,
      "outputs": []
    },
    {
      "cell_type": "markdown",
      "metadata": {
        "id": "yv6xYiNzSpp-"
      },
      "source": [
        "### CNN"
      ]
    },
    {
      "cell_type": "code",
      "metadata": {
        "id": "kXbyJbr7Sx0f"
      },
      "source": [
        ""
      ],
      "execution_count": null,
      "outputs": []
    },
    {
      "cell_type": "markdown",
      "metadata": {
        "id": "q__0kdUwVKk-"
      },
      "source": [
        "## 3. 성능평가\n",
        "---"
      ]
    },
    {
      "cell_type": "markdown",
      "metadata": {
        "id": "thNgeW2jVfXO"
      },
      "source": [
        "### Softmax Regression"
      ]
    },
    {
      "cell_type": "code",
      "metadata": {
        "id": "xjnhC1TMVlug"
      },
      "source": [
        ""
      ],
      "execution_count": null,
      "outputs": []
    },
    {
      "cell_type": "markdown",
      "metadata": {
        "id": "IlBxQM71Vffp"
      },
      "source": [
        "### DNN"
      ]
    },
    {
      "cell_type": "code",
      "metadata": {
        "id": "m7X9gUXjVmMB"
      },
      "source": [
        ""
      ],
      "execution_count": null,
      "outputs": []
    },
    {
      "cell_type": "markdown",
      "metadata": {
        "id": "AInHxAY6VflX"
      },
      "source": [
        "### CNN"
      ]
    },
    {
      "cell_type": "code",
      "metadata": {
        "id": "clyGz0UnVmqc"
      },
      "source": [
        ""
      ],
      "execution_count": null,
      "outputs": []
    }
  ]
}