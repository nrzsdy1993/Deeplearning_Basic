{
  "nbformat": 4,
  "nbformat_minor": 0,
  "metadata": {
    "colab": {
      "name": "시험_실기1.ipynb",
      "provenance": [],
      "collapsed_sections": []
    },
    "kernelspec": {
      "name": "python3",
      "display_name": "Python 3"
    },
    "language_info": {
      "name": "python"
    }
  },
  "cells": [
    {
      "cell_type": "markdown",
      "metadata": {
        "id": "pXEbkkkHuTQR"
      },
      "source": [
        "## 1. 데이터(45)\n",
        "---\n"
      ]
    },
    {
      "cell_type": "markdown",
      "metadata": {
        "id": "8ja0QPiFSqv-"
      },
      "source": [
        "### 1-1 **외부 테이터셋 (15)**\n",
        "---"
      ]
    },
    {
      "cell_type": "markdown",
      "metadata": {
        "id": "QFgaTFCwubLD"
      },
      "source": [
        "#### **대회 데이터 가져오기 (5)**\n",
        "\n",
        "  * https://dacon.io/competitions/open/235539/data 에서 데이터를 다운받고 코랩에 업로드 합니다.\n",
        "  * train.csv 만 사용하세요, pandas를 이용해 load합니다."
      ]
    },
    {
      "cell_type": "code",
      "metadata": {
        "id": "zwhveWOCud0T"
      },
      "source": [
        "! ls"
      ],
      "execution_count": null,
      "outputs": []
    },
    {
      "cell_type": "markdown",
      "metadata": {
        "id": "F7x_Cl6_GADz"
      },
      "source": [
        "#### **numpy로 변환하기 (5)**\n",
        "  * 위에서 로드한 데이터를 넘파이로 변환합니다.\n",
        "  * shape를 확인합니다"
      ]
    },
    {
      "cell_type": "code",
      "metadata": {
        "id": "-CuR4S4uFRI7"
      },
      "source": [
        ""
      ],
      "execution_count": null,
      "outputs": []
    },
    {
      "cell_type": "markdown",
      "metadata": {
        "id": "Hrfcz0VtGBWa"
      },
      "source": [
        "#### **데이터 정의하기** (5)\n",
        "  * x와 y 값을 정의합니다.\n",
        "  * x_train, x_test, y_train, y_test를 정의합니다."
      ]
    },
    {
      "cell_type": "code",
      "metadata": {
        "id": "-1GxvdtkF2lY"
      },
      "source": [
        ""
      ],
      "execution_count": null,
      "outputs": []
    },
    {
      "cell_type": "markdown",
      "metadata": {
        "id": "Wzb-uQK-TJjt"
      },
      "source": [
        "### 1-2 **케라스 데이터 (30)**\n",
        "---"
      ]
    },
    {
      "cell_type": "markdown",
      "metadata": {
        "id": "oVmCCA5euYhc"
      },
      "source": [
        "#### **케라스 데이터 가져오기 (5)**\n",
        "  * tensorflow.keras 의 datasets 에서 cifar10 데이터를 가져옵니다\n",
        "  * 각 데이터의 shape를 확인하고 각 차원의 의미를 적으세요"
      ]
    },
    {
      "cell_type": "code",
      "metadata": {
        "id": "IFAoVTCTuUkZ"
      },
      "source": [
        ""
      ],
      "execution_count": null,
      "outputs": []
    },
    {
      "cell_type": "markdown",
      "metadata": {
        "id": "vEm-Xo0lutEa"
      },
      "source": [
        "#### **데이터 시각화 (15)**\n",
        "  * 아래 세 이미지와 최대한 비슷하게 그리세요\n",
        "    * 이미지 시각화 (5)\n",
        "    * x 히스토그램 - test set만 그리세요 (5)\n",
        "    * y 히스토그램 - test set만 그리세요 (5)\n",
        "  \n",
        "  ![](https://github.com/yebiny/Lecture_deeplearning_basic/blob/main/imgs/test_vis.png?raw=true)\n",
        "\n"
      ]
    },
    {
      "cell_type": "code",
      "metadata": {
        "id": "y3NXkEq8um9j"
      },
      "source": [
        ""
      ],
      "execution_count": null,
      "outputs": []
    },
    {
      "cell_type": "code",
      "metadata": {
        "id": "sm-s1mEi42T0"
      },
      "source": [
        ""
      ],
      "execution_count": null,
      "outputs": []
    },
    {
      "cell_type": "code",
      "metadata": {
        "id": "gVIXy5Oa5eQ6"
      },
      "source": [
        ""
      ],
      "execution_count": null,
      "outputs": []
    },
    {
      "cell_type": "markdown",
      "metadata": {
        "id": "8PRMMZ_HStyW"
      },
      "source": [
        "#### **데이터 전처리 (10)**\n",
        "  * x_train, x_test 전처리: 정규화 (5)\n",
        "  * y_train, y_test 전처리: 원핫벡터 (5)"
      ]
    },
    {
      "cell_type": "code",
      "metadata": {
        "id": "4LRFfG370Iyx"
      },
      "source": [
        ""
      ],
      "execution_count": null,
      "outputs": []
    },
    {
      "cell_type": "code",
      "metadata": {
        "id": "ljjLTpXku8oX"
      },
      "source": [
        ""
      ],
      "execution_count": null,
      "outputs": []
    },
    {
      "cell_type": "markdown",
      "metadata": {
        "id": "QXVhRF7XvPqd"
      },
      "source": [
        "## 2. 모델 (55)\n",
        "---\n"
      ]
    },
    {
      "cell_type": "markdown",
      "metadata": {
        "id": "2S7YyTahV4FA"
      },
      "source": [
        "\n",
        "### **2-1. 모델 구현과 시각화 (20)**\n",
        "---"
      ]
    },
    {
      "cell_type": "code",
      "metadata": {
        "id": "vK9xXtsOLLSR"
      },
      "source": [
        ""
      ],
      "execution_count": null,
      "outputs": []
    },
    {
      "cell_type": "markdown",
      "metadata": {
        "id": "tHMfBUIQKzqA"
      },
      "source": [
        "\n",
        "#### **softmax regression(5)**"
      ]
    },
    {
      "cell_type": "code",
      "metadata": {
        "id": "Stg4Es6EvQ5U"
      },
      "source": [
        ""
      ],
      "execution_count": null,
      "outputs": []
    },
    {
      "cell_type": "markdown",
      "metadata": {
        "id": "KDJ-gWFdJLdP"
      },
      "source": [
        "#### **dnn (5)** : 아래 그림의 모델을 구현합니다.\n",
        "\n",
        "![](https://github.com/yebiny/Lecture_deeplearning_basic/blob/main/imgs/test_dnn.png?raw=true)"
      ]
    },
    {
      "cell_type": "code",
      "metadata": {
        "id": "CVVnllO_JNqg"
      },
      "source": [
        ""
      ],
      "execution_count": null,
      "outputs": []
    },
    {
      "cell_type": "markdown",
      "metadata": {
        "id": "3twtnqcmJM5d"
      },
      "source": [
        "#### **cnn1 (5)** : 아래 그림의 모델을 구현합니다.\n",
        "\n",
        "![](https://github.com/yebiny/Lecture_deeplearning_basic/blob/main/imgs/test_cnn1.png?raw=true)"
      ]
    },
    {
      "cell_type": "code",
      "metadata": {
        "id": "ZVeJdNMUJQUA"
      },
      "source": [
        ""
      ],
      "execution_count": null,
      "outputs": []
    },
    {
      "cell_type": "markdown",
      "metadata": {
        "id": "2XZO2XPNJQ6R"
      },
      "source": [
        "#### **cnn2 (5)** : 아래 그림의 모델을 구현합니다.\n",
        "![](https://github.com/yebiny/Lecture_deeplearning_basic/blob/main/imgs/test_cnn2.png?raw=true)"
      ]
    },
    {
      "cell_type": "code",
      "metadata": {
        "id": "0p6tLDCGJSIT"
      },
      "source": [
        ""
      ],
      "execution_count": null,
      "outputs": []
    },
    {
      "cell_type": "markdown",
      "metadata": {
        "id": "7KTxLuP4vY4u"
      },
      "source": [
        "### **2-2. 모델 가져오기 (10)**\n",
        "---\n"
      ]
    },
    {
      "cell_type": "markdown",
      "metadata": {
        "id": "jocJpSHQOaM8"
      },
      "source": [
        "#### **모델 로드 후 시각화 (5)**"
      ]
    },
    {
      "cell_type": "code",
      "metadata": {
        "id": "zWiGtyUyvbVJ"
      },
      "source": [
        ""
      ],
      "execution_count": null,
      "outputs": []
    },
    {
      "cell_type": "markdown",
      "metadata": {
        "id": "9gGxGiduJWAC"
      },
      "source": [
        "#### **가져온 모델 데이터에 맞게 수정후 시각화 (5)**"
      ]
    },
    {
      "cell_type": "code",
      "metadata": {
        "id": "U8QJ6phTJWNp"
      },
      "source": [
        ""
      ],
      "execution_count": null,
      "outputs": []
    },
    {
      "cell_type": "markdown",
      "metadata": {
        "id": "4nxSzEwoxcQ4"
      },
      "source": [
        "### **2-3. 모델 학습 (15)**\n",
        "---\n",
        "\n",
        "* 데이터셋 \n",
        "  * 위에서 정의한 두개의 데이터셋 중 하나를 이용합니다.\n",
        "  * 성능 향상을 위하여 위 데이터셋을 변형해도 좋습니다.\n",
        "* 모델\n",
        "  * 문제3, 문제4 에서 만든 모델 중에서 선택하거나,\n",
        "  * 새로 만들어도 좋습니다.\n",
        "* 점수기준\n",
        "  * 모델을 컴파일하고, 학습을 시키면 기본점수가 부과됩니다.\n",
        "  * 성능평가 하여 acc 기준에 따라 점수가 부과됩니다."
      ]
    },
    {
      "cell_type": "markdown",
      "metadata": {
        "id": "Uo3APnt3KAIo"
      },
      "source": [
        "#### **모델 컴파일 (5)**"
      ]
    },
    {
      "cell_type": "code",
      "metadata": {
        "id": "9hPJl3kwxbps"
      },
      "source": [
        ""
      ],
      "execution_count": null,
      "outputs": []
    },
    {
      "cell_type": "markdown",
      "metadata": {
        "id": "cXNFJQEEX_8C"
      },
      "source": [
        "#### **모델 학습 (5)**"
      ]
    },
    {
      "cell_type": "code",
      "metadata": {
        "id": "cStd66wxXGUm"
      },
      "source": [
        ""
      ],
      "execution_count": null,
      "outputs": []
    },
    {
      "cell_type": "markdown",
      "metadata": {
        "id": "NHWCsWaGJnej"
      },
      "source": [
        "#### **성능평가 (5)**\n",
        "  * test 셋의 accuracy 기준으로 가산점 부여(acc 70이상이면 5점)"
      ]
    },
    {
      "cell_type": "code",
      "metadata": {
        "id": "ydmFYwreJnWb"
      },
      "source": [
        ""
      ],
      "execution_count": null,
      "outputs": []
    },
    {
      "cell_type": "markdown",
      "metadata": {
        "id": "7tF0r4O3yju0"
      },
      "source": [
        "### **2-4. 결과 시각화 및 분석 (10)**\n",
        "---\n",
        "* history 이용한 loss와 accuracy 플롯 (5)\n",
        "* 가산점 (5)\n",
        "  * loss, accuracy 플롯을 가시성 있게 그렸을 때\n",
        "  * confusion matrix , roc curve 등 추가 하였을 때"
      ]
    },
    {
      "cell_type": "code",
      "metadata": {
        "id": "vZJ4KhZ_yzP_"
      },
      "source": [
        ""
      ],
      "execution_count": null,
      "outputs": []
    }
  ]
}